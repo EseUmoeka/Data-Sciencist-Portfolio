{
 "cells": [
  {
   "cell_type": "markdown",
   "metadata": {},
   "source": [
    "# Import software libraries"
   ]
  },
  {
   "cell_type": "code",
   "execution_count": 1,
   "metadata": {},
   "outputs": [
    {
     "name": "stdout",
     "output_type": "stream",
     "text": [
      "Libraries used in this project:\n",
      "- Python 3.7.6 | packaged by conda-forge | (default, Mar 23 2020, 23:03:20) \n",
      "[GCC 7.3.0]\n",
      "- pandas 1.1.3\n",
      "- sqlite3 3.30.1\n"
     ]
    }
   ],
   "source": [
    "# Import required libraries.\n",
    "import sys           # Read system parameters.\n",
    "import pandas as pd  # Manipulate and analyze data.\n",
    "import sqlite3       # Manage SQL databases.\n",
    "\n",
    "# Summarize software libraries used.\n",
    "print('Libraries used in this project:')\n",
    "print('- Python {}'.format(sys.version))\n",
    "print('- pandas {}'.format(pd.__version__))\n",
    "print('- sqlite3 {}'.format(sqlite3.sqlite_version))"
   ]
  },
  {
   "cell_type": "markdown",
   "metadata": {},
   "source": [
    "# Examine the database"
   ]
  },
  {
   "cell_type": "code",
   "execution_count": 2,
   "metadata": {},
   "outputs": [
    {
     "name": "stdout",
     "output_type": "stream",
     "text": [
      "Database is connected :  <sqlite3.Connection object at 0x7fb2939c7030>\n"
     ]
    }
   ],
   "source": [
    "# Connect to SQLite database.\n",
    "conn=sqlite3.connect('data/prod_sample.db')\n",
    "print(\"Database is connected : \",conn)"
   ]
  },
  {
   "cell_type": "code",
   "execution_count": 3,
   "metadata": {},
   "outputs": [
    {
     "name": "stdout",
     "output_type": "stream",
     "text": [
      "Tables in the database:\n",
      "stock_description\n",
      "online_retail_history\n"
     ]
    }
   ],
   "source": [
    "# List all the tables in the database.\n",
    "cursor = conn.cursor()\n",
    "cursor.execute(\"SELECT name FROM sqlite_master WHERE type='table';\")\n",
    "tables = cursor.fetchall()\n",
    "print('Tables in the database:')\n",
    "for table in tables:\n",
    "    print(table[0])"
   ]
  },
  {
   "cell_type": "markdown",
   "metadata": {},
   "source": [
    "# Read data from the `online_retail_history` table"
   ]
  },
  {
   "cell_type": "code",
   "execution_count": 4,
   "metadata": {},
   "outputs": [
    {
     "name": "stdout",
     "output_type": "stream",
     "text": [
      "  Invoice StockCode  Quantity          InvoiceDate  Price CustomerID  \\\n",
      "0  536365    85123A         6  2010-12-01 08:26:00   2.55      u1785   \n",
      "1  536367     84879        32  2010-12-01 08:34:00   1.69     u13047   \n",
      "2  536373    85123A         6  2010-12-01 09:02:00   2.55      u1785   \n",
      "3  536375    85123A         6  2010-12-01 09:32:00   2.55      u1785   \n",
      "4  536378     20725        10  2010-12-01 09:37:00   1.65     u14688   \n",
      "\n",
      "          Country  TotalAmount  \n",
      "0  United Kingdom        15.30  \n",
      "1  United Kingdom        54.08  \n",
      "2  United Kingdom        15.30  \n",
      "3  United Kingdom        15.30  \n",
      "4  United Kingdom        16.50  \n"
     ]
    }
   ],
   "source": [
    "# Write the query to be executed that selects everything from the online_retail_history table.\n",
    "query='SELECT * FROM online_retail_history'\n",
    "# Use the read_sql function in pandas to read a query into a DataFrame.\n",
    "online_retail_history=pd.read_sql(query,conn)\n",
    "# Preview the first five rows of the data.\n",
    "print(online_retail_history.head(5))"
   ]
  },
  {
   "cell_type": "code",
   "execution_count": 6,
   "metadata": {},
   "outputs": [
    {
     "name": "stdout",
     "output_type": "stream",
     "text": [
      "Shape is  (15321, 8)\n"
     ]
    }
   ],
   "source": [
    "# Get the shape of the data.\n",
    "print('Shape is ',online_retail_history.shape)"
   ]
  },
  {
   "cell_type": "markdown",
   "metadata": {},
   "source": [
    "# Read data from the `stock_description` table"
   ]
  },
  {
   "cell_type": "code",
   "execution_count": 5,
   "metadata": {},
   "outputs": [
    {
     "name": "stdout",
     "output_type": "stream",
     "text": [
      "  StockCode                  Description\n",
      "0     10002  INFLATABLE POLITICAL GLOBE \n",
      "1     10080     GROOVY CACTUS INFLATABLE\n",
      "2     10120                 DOGGY RUBBER\n",
      "3    10123C        HEARTS WRAPPING TAPE \n",
      "4    10124A  SPOTS ON RED BOOKCOVER TAPE\n"
     ]
    }
   ],
   "source": [
    "# Write the query to be executed that selects everything from the online_retail_history table.\n",
    "query='SELECT * FROM stock_description'\n",
    "\n",
    "# Use the read_sql function in pandas to read a query into a DataFrame.\n",
    "stock_description=pd.read_sql(query,conn)\n",
    "\n",
    "# Preview the first five rows of the data.\n",
    "print(stock_description.head(5))\n"
   ]
  },
  {
   "cell_type": "code",
   "execution_count": 7,
   "metadata": {},
   "outputs": [
    {
     "name": "stdout",
     "output_type": "stream",
     "text": [
      "(3952, 2)\n"
     ]
    }
   ],
   "source": [
    "# Get the shape of the data.\n",
    "print(stock_description.shape)"
   ]
  },
  {
   "cell_type": "markdown",
   "metadata": {},
   "source": [
    "# Aggregate the `online_retail_history` and `stock_description` datasets"
   ]
  },
  {
   "cell_type": "code",
   "execution_count": 8,
   "metadata": {},
   "outputs": [
    {
     "name": "stdout",
     "output_type": "stream",
     "text": [
      "  StockCode                         Description Invoice          InvoiceDate\n",
      "0    85123A  CREAM HANGING HEART T-LIGHT HOLDER  536365  2010-12-01 08:26:00\n",
      "1     84879       ASSORTED COLOUR BIRD ORNAMENT  536367  2010-12-01 08:34:00\n",
      "2    85123A  CREAM HANGING HEART T-LIGHT HOLDER  536373  2010-12-01 09:02:00\n",
      "3    85123A  CREAM HANGING HEART T-LIGHT HOLDER  536375  2010-12-01 09:32:00\n",
      "4     20725             LUNCH BAG RED RETROSPOT  536378  2010-12-01 09:37:00\n"
     ]
    }
   ],
   "source": [
    "# Write a query to aggregate the two datasets so that you have the stock descriptions as well as the stock code.\n",
    "query = \"\"\"\n",
    "SELECT \n",
    "    online_retail_history.StockCode, \n",
    "    stock_description.Description, \n",
    "    online_retail_history.Invoice, online_retail_history.InvoiceDate \n",
    "FROM \n",
    "    online_retail_history\n",
    "JOIN \n",
    "    stock_description \n",
    "ON \n",
    "    online_retail_history.StockCode = stock_description.StockCode\n",
    "\"\"\"\n",
    "\n",
    "# Use the read_sql function in pandas to read a query into a DataFrame.\n",
    "aggregate=pd.read_sql(query,conn)\n",
    "\n",
    "# Preview the first five rows of the data.\n",
    "print(aggregate.head(5))\n"
   ]
  },
  {
   "cell_type": "code",
   "execution_count": 42,
   "metadata": {},
   "outputs": [
    {
     "data": {
      "text/plain": [
       "(17032, 9)"
      ]
     },
     "execution_count": 42,
     "metadata": {},
     "output_type": "execute_result"
    }
   ],
   "source": [
    "# Get the shape of the data.\n",
    "print(aggregate.shape)"
   ]
  },
  {
   "cell_type": "markdown",
   "metadata": {},
   "source": [
    "# Identify and fix corrupt or unusable data"
   ]
  },
  {
   "cell_type": "code",
   "execution_count": 11,
   "metadata": {},
   "outputs": [
    {
     "name": "stdout",
     "output_type": "stream",
     "text": [
      "CREAM HANGING HEART T-LIGHT HOLDER    2174\n",
      "JUMBO BAG RED RETROSPOT               1960\n",
      "REGENCY CAKESTAND 3 TIER              1711\n",
      "?                                     1711\n",
      "PARTY BUNTING                         1615\n",
      "LUNCH BAG RED RETROSPOT               1421\n",
      "ASSORTED COLOUR BIRD ORNAMENT         1405\n",
      "POPCORN HOLDER                        1329\n",
      "LUNCH BAG  BLACK SKULL.               1271\n",
      "SET OF 3 CAKE TINS PANTRY DESIGN      1257\n",
      "PACK OF 72 RETROSPOT CAKE CASES       1178\n",
      "Name: Description, dtype: int64\n"
     ]
    }
   ],
   "source": [
    "# Check the value counts of the \"Description\" field.\n",
    "\n",
    "print(aggregate['Description'].value_counts())"
   ]
  },
  {
   "cell_type": "code",
   "execution_count": 12,
   "metadata": {},
   "outputs": [
    {
     "name": "stdout",
     "output_type": "stream",
     "text": [
      "  StockCode                         Description Invoice          InvoiceDate\n",
      "0    85123A  CREAM HANGING HEART T-LIGHT HOLDER  536365  2010-12-01 08:26:00\n",
      "1     84879       ASSORTED COLOUR BIRD ORNAMENT  536367  2010-12-01 08:34:00\n",
      "2    85123A  CREAM HANGING HEART T-LIGHT HOLDER  536373  2010-12-01 09:02:00\n",
      "3    85123A  CREAM HANGING HEART T-LIGHT HOLDER  536375  2010-12-01 09:32:00\n",
      "4     20725             LUNCH BAG RED RETROSPOT  536378  2010-12-01 09:37:00\n"
     ]
    }
   ],
   "source": [
    "# Remove rows where \"Description\" is just a question mark (?).\n",
    "aggregate_cleaned=aggregate[aggregate.Description!='?']\n",
    "\n",
    "# Preview the first five rows of the data.\n",
    "print(aggregate_cleaned.head(5))\n"
   ]
  },
  {
   "cell_type": "markdown",
   "metadata": {},
   "source": [
    "# Identify and remove duplicates"
   ]
  },
  {
   "cell_type": "code",
   "execution_count": 17,
   "metadata": {},
   "outputs": [],
   "source": [
    "# Identify all duplicated data.\n",
    "duplicated_data = aggregate.duplicated()"
   ]
  },
  {
   "cell_type": "code",
   "execution_count": 18,
   "metadata": {},
   "outputs": [
    {
     "name": "stdout",
     "output_type": "stream",
     "text": [
      "      StockCode                      Description Invoice          InvoiceDate\n",
      "34        21212  PACK OF 72 RETROSPOT CAKE CASES  536464  2010-12-01 12:23:00\n",
      "35        22197                   POPCORN HOLDER  536464  2010-12-01 12:23:00\n",
      "110      85099B          JUMBO BAG RED RETROSPOT  536643  2010-12-02 11:57:00\n",
      "149       84879    ASSORTED COLOUR BIRD ORNAMENT  536796  2010-12-02 15:46:00\n",
      "178       20727          LUNCH BAG  BLACK SKULL.  536863  2010-12-03 11:19:00\n",
      "...         ...                              ...     ...                  ...\n",
      "16948     22423                                ?  581256  2011-12-08 11:21:00\n",
      "16949     22423         REGENCY CAKESTAND 3 TIER  581256  2011-12-08 11:21:00\n",
      "16972     20727          LUNCH BAG  BLACK SKULL.  581412  2011-12-08 14:38:00\n",
      "16995     22423                                ?  581449  2011-12-08 17:37:00\n",
      "16996     22423         REGENCY CAKESTAND 3 TIER  581449  2011-12-08 17:37:00\n",
      "\n",
      "[374 rows x 4 columns]\n"
     ]
    }
   ],
   "source": [
    "# Print the duplicated data.\n",
    "print(aggregate[duplicated_data])\n"
   ]
  },
  {
   "cell_type": "code",
   "execution_count": 20,
   "metadata": {},
   "outputs": [
    {
     "name": "stdout",
     "output_type": "stream",
     "text": [
      "  StockCode                         Description Invoice          InvoiceDate\n",
      "0    85123A  CREAM HANGING HEART T-LIGHT HOLDER  536365  2010-12-01 08:26:00\n",
      "1     84879       ASSORTED COLOUR BIRD ORNAMENT  536367  2010-12-01 08:34:00\n",
      "2    85123A  CREAM HANGING HEART T-LIGHT HOLDER  536373  2010-12-01 09:02:00\n",
      "3    85123A  CREAM HANGING HEART T-LIGHT HOLDER  536375  2010-12-01 09:32:00\n",
      "4     20725             LUNCH BAG RED RETROSPOT  536378  2010-12-01 09:37:00\n"
     ]
    }
   ],
   "source": [
    "# Remove the duplicated data.\n",
    "cleaned_data=aggregate.drop_duplicates()\n",
    "\n",
    "# Preview the first five rows of the data.\n",
    "print(cleaned_data.head(5))\n"
   ]
  },
  {
   "cell_type": "markdown",
   "metadata": {},
   "source": [
    "# Correct date formats"
   ]
  },
  {
   "cell_type": "code",
   "execution_count": 21,
   "metadata": {},
   "outputs": [
    {
     "name": "stdout",
     "output_type": "stream",
     "text": [
      "StockCode      object\n",
      "Description    object\n",
      "Invoice        object\n",
      "InvoiceDate    object\n",
      "dtype: object\n"
     ]
    }
   ],
   "source": [
    "# Get the data types for every column in the DataFrame.\n",
    "print(cleaned_data.dtypes)\n"
   ]
  },
  {
   "cell_type": "code",
   "execution_count": 26,
   "metadata": {},
   "outputs": [
    {
     "name": "stdout",
     "output_type": "stream",
     "text": [
      "      StockCode                         Description Invoice InvoiceDate\n",
      "0        85123A  CREAM HANGING HEART T-LIGHT HOLDER  536365  2010-12-01\n",
      "1         84879       ASSORTED COLOUR BIRD ORNAMENT  536367  2010-12-01\n",
      "2        85123A  CREAM HANGING HEART T-LIGHT HOLDER  536373  2010-12-01\n",
      "3        85123A  CREAM HANGING HEART T-LIGHT HOLDER  536375  2010-12-01\n",
      "4         20725             LUNCH BAG RED RETROSPOT  536378  2010-12-01\n",
      "...         ...                                 ...     ...         ...\n",
      "17027     20727             LUNCH BAG  BLACK SKULL.  581538  2011-12-09\n",
      "17028     20725             LUNCH BAG RED RETROSPOT  581538  2011-12-09\n",
      "17029     22197                      POPCORN HOLDER  581579  2011-12-09\n",
      "17030     20725             LUNCH BAG RED RETROSPOT  581583  2011-12-09\n",
      "17031     84879       ASSORTED COLOUR BIRD ORNAMENT  581585  2011-12-09\n",
      "\n",
      "[16658 rows x 4 columns]\n"
     ]
    }
   ],
   "source": [
    "# Convert \"InvoiceDate\" to a \"%Y-%m-%d\" datetime format.\n",
    "cleaned_data['InvoiceDate']= pd.to_datetime(cleaned_data[\"InvoiceDate\"], format='%Y-%m-%d')\n",
    "print(cleaned_data)\n"
   ]
  },
  {
   "cell_type": "code",
   "execution_count": 27,
   "metadata": {},
   "outputs": [
    {
     "name": "stdout",
     "output_type": "stream",
     "text": [
      "StockCode              object\n",
      "Description            object\n",
      "Invoice                object\n",
      "InvoiceDate    datetime64[ns]\n",
      "dtype: object\n"
     ]
    }
   ],
   "source": [
    "# Get the data types for every column in the converted DataFrame.\n",
    "print(cleaned_data.dtypes)\n"
   ]
  },
  {
   "cell_type": "markdown",
   "metadata": {},
   "source": [
    "# Examine the table before finishing"
   ]
  },
  {
   "cell_type": "code",
   "execution_count": 28,
   "metadata": {},
   "outputs": [
    {
     "name": "stdout",
     "output_type": "stream",
     "text": [
      "  StockCode                         Description Invoice InvoiceDate\n",
      "0    85123A  CREAM HANGING HEART T-LIGHT HOLDER  536365  2010-12-01\n",
      "1     84879       ASSORTED COLOUR BIRD ORNAMENT  536367  2010-12-01\n",
      "2    85123A  CREAM HANGING HEART T-LIGHT HOLDER  536373  2010-12-01\n",
      "3    85123A  CREAM HANGING HEART T-LIGHT HOLDER  536375  2010-12-01\n",
      "4     20725             LUNCH BAG RED RETROSPOT  536378  2010-12-01\n"
     ]
    }
   ],
   "source": [
    "# Preview the first five rows of the data.\n",
    "print(cleaned_data.head(5))"
   ]
  },
  {
   "cell_type": "markdown",
   "metadata": {},
   "source": [
    "# Load the dataset into a pickle file"
   ]
  },
  {
   "cell_type": "code",
   "execution_count": 29,
   "metadata": {},
   "outputs": [
    {
     "name": "stdout",
     "output_type": "stream",
     "text": [
      "The dataset is saved as pickle\n"
     ]
    }
   ],
   "source": [
    "# Save the dataset as a pickle file named online_history_cleaned.pickle.\n",
    "cleaned_data.to_pickle('online_history_cleaned.pickle')\n",
    "print(\"The dataset is saved as pickle\")"
   ]
  },
  {
   "cell_type": "code",
   "execution_count": 30,
   "metadata": {},
   "outputs": [
    {
     "name": "stdout",
     "output_type": "stream",
     "text": [
      "conncetions is closed\n"
     ]
    }
   ],
   "source": [
    "# Close any connections to the database.\n",
    "\n",
    "conn.close()\n",
    "print(\"conncetions is closed\")"
   ]
  },
  {
   "cell_type": "code",
   "execution_count": null,
   "metadata": {},
   "outputs": [],
   "source": []
  }
 ],
 "metadata": {
  "kernelspec": {
   "display_name": "Python 3",
   "language": "python",
   "name": "python3"
  },
  "language_info": {
   "codemirror_mode": {
    "name": "ipython",
    "version": 3
   },
   "file_extension": ".py",
   "mimetype": "text/x-python",
   "name": "python",
   "nbconvert_exporter": "python",
   "pygments_lexer": "ipython3",
   "version": "3.7.6"
  }
 },
 "nbformat": 4,
 "nbformat_minor": 4
}
