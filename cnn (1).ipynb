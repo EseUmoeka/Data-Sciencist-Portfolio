{
 "cells": [
  {
   "cell_type": "markdown",
   "metadata": {},
   "source": [
    "# Import software libraries and load the dataset #"
   ]
  },
  {
   "cell_type": "code",
   "execution_count": 4,
   "metadata": {},
   "outputs": [
    {
     "ename": "ModuleNotFoundError",
     "evalue": "No module named 'numpy'",
     "output_type": "error",
     "traceback": [
      "\u001b[1;31m---------------------------------------------------------------------------\u001b[0m",
      "\u001b[1;31mModuleNotFoundError\u001b[0m                       Traceback (most recent call last)",
      "Cell \u001b[1;32mIn[4], line 4\u001b[0m\n\u001b[0;32m      2\u001b[0m \u001b[39mimport\u001b[39;00m \u001b[39msys\u001b[39;00m                             \u001b[39m# Read system parameters.\u001b[39;00m\n\u001b[0;32m      3\u001b[0m \u001b[39mimport\u001b[39;00m \u001b[39mshutil\u001b[39;00m\n\u001b[1;32m----> 4\u001b[0m \u001b[39mimport\u001b[39;00m \u001b[39mnumpy\u001b[39;00m \u001b[39mas\u001b[39;00m \u001b[39mnp\u001b[39;00m                     \u001b[39m# Work with multi-dimensional arrays and matrices.\u001b[39;00m\n\u001b[0;32m      5\u001b[0m \u001b[39mfrom\u001b[39;00m \u001b[39mnumpy\u001b[39;00m\u001b[39m.\u001b[39;00m\u001b[39mrandom\u001b[39;00m \u001b[39mimport\u001b[39;00m seed\n\u001b[0;32m      6\u001b[0m \u001b[39mimport\u001b[39;00m \u001b[39mmatplotlib\u001b[39;00m \u001b[39mas\u001b[39;00m \u001b[39mmpl\u001b[39;00m               \u001b[39m# Create 2D charts.\u001b[39;00m\n",
      "\u001b[1;31mModuleNotFoundError\u001b[0m: No module named 'numpy'"
     ]
    }
   ],
   "source": [
    "# Import required libraries.\n",
    "import sys                             # Read system parameters.\n",
    "import shutil\n",
    "import numpy as np                     # Work with multi-dimensional arrays and matrices.\n",
    "from numpy.random import seed\n",
    "import matplotlib as mpl               # Create 2D charts.\n",
    "import matplotlib.pyplot as plt\n",
    "import sklearn                         # Perform data mining and analysis.\n",
    "import tensorflow                      # Train neural networks for deep learning.\n",
    "import keras                           # Provide a frontend for TensorFlow.\n",
    "from keras import datasets\n",
    "\n",
    "# Summarize software libraries used.\n",
    "print('Libraries used in this project:')\n",
    "print('- Python {}'.format(sys.version))\n",
    "print('- NumPy {}'.format(np.__version__))\n",
    "print('- Matplotlib {}'.format(mpl.__version__))\n",
    "print('- scikit-learn {}'.format(sklearn.__version__))\n",
    "print('- TensorFlow {}'.format(tensorflow.__version__))\n",
    "print('- Keras {}\\n'.format(keras.__version__))\n",
    "\n",
    "# Load the dataset.\n",
    "shutil.rmtree('/home/jovyan/.keras')\n",
    "shutil.copytree('/home/jovyan/work/.keras', '/home/jovyan/.keras')\n",
    "(X_train, y_train), (X_test, y_test) = datasets.mnist.load_data()\n",
    "print('Loaded {} training records.'.format(len(X_train.data)))\n",
    "print('Loaded {} test records.'.format(len(X_test.data)))\n",
    "\n",
    "# Uncomment the following two lines to make outcomes deterministic. Supply whatever seed values you wish.\n",
    "#seed(1)\n",
    "#tensorflow.random.set_seed(1)"
   ]
  },
  {
   "cell_type": "markdown",
   "metadata": {},
   "source": [
    "# Get acquainted with the dataset"
   ]
  },
  {
   "cell_type": "code",
   "execution_count": 2,
   "metadata": {},
   "outputs": [
    {
     "name": "stdout",
     "output_type": "stream",
     "text": [
      "Training set dimensions:\n",
      "X_train shape: (60000, 28, 28)\n",
      "y_train shape: (60000,)\n",
      "\n",
      "Testing set dimensions:\n",
      "X_test shape: (10000, 28, 28)\n",
      "y_test shape: (10000,)\n"
     ]
    }
   ],
   "source": [
    "# Show dimensions of the training and testing sets and their labels\n",
    "\n",
    "# Display dimensions of the training and testing sets\n",
    "print('Training set dimensions:')\n",
    "print('X_train shape:', X_train.shape)\n",
    "print('y_train shape:', y_train.shape)\n",
    "\n",
    "print('\\nTesting set dimensions:')\n",
    "print('X_test shape:', X_test.shape)\n",
    "print('y_test shape:', y_test.shape)"
   ]
  },
  {
   "cell_type": "markdown",
   "metadata": {},
   "source": [
    "# Visualize the data examples"
   ]
  },
  {
   "cell_type": "code",
   "execution_count": 3,
   "metadata": {
    "scrolled": false
   },
   "outputs": [
    {
     "data": {
      "image/png": "[encoded data removed]",
      "text/plain": [
       "<Figure size 864x432 with 20 Axes>"
      ]
     },
     "metadata": {
      "needs_background": "light"
     },
     "output_type": "display_data"
    }
   ],
   "source": [
    "# Show a preview of the first 20 images\n",
    "\n",
    "# Show a preview of the first 20 images\n",
    "plt.figure(figsize=(12, 6))\n",
    "for i in range(20):\n",
    "    plt.subplot(4, 5, i + 1)\n",
    "    plt.imshow(X_train[i], cmap='gray')\n",
    "    plt.title(f\"Label: {y_train[i]}\")\n",
    "    plt.axis('off')\n",
    "\n",
    "plt.tight_layout()\n",
    "plt.show()"
   ]
  },
  {
   "cell_type": "markdown",
   "metadata": {},
   "source": [
    "# Prepare the data for training with Keras"
   ]
  },
  {
   "cell_type": "code",
   "execution_count": 5,
   "metadata": {},
   "outputs": [],
   "source": [
    "from keras.utils import to_categorical  # For one-hot encoding\n",
    "\n",
    "# Reshape arrays to add greyscale flag\n",
    "X_train = X_train.reshape(X_train.shape[0], 28, 28, 1)\n",
    "X_test = X_test.reshape(X_test.shape[0], 28, 28, 1)\n",
    "\n",
    "# Normalize pixel values to the range [0, 1]\n",
    "X_train = X_train.astype('float32') / 255\n",
    "X_test = X_test.astype('float32') / 255\n",
    "\n",
    "# One-hot encode the labels\n",
    "y_train = to_categorical(y_train, 10)\n",
    "y_test = to_categorical(y_test, 10)"
   ]
  },
  {
   "cell_type": "markdown",
   "metadata": {},
   "source": [
    "# Split the datasets"
   ]
  },
  {
   "cell_type": "code",
   "execution_count": 6,
   "metadata": {},
   "outputs": [
    {
     "name": "stdout",
     "output_type": "stream",
     "text": [
      "Training set dimensions:\n",
      "X_train shape: (48000, 28, 28, 1)\n",
      "y_train shape: (48000, 10)\n",
      "\n",
      "Validation set dimensions:\n",
      "X_val shape: (12000, 28, 28, 1)\n",
      "y_val shape: (12000, 10)\n",
      "\n",
      "Testing set dimensions:\n",
      "X_test shape: (10000, 28, 28, 1)\n",
      "y_test shape: (10000, 10)\n"
     ]
    }
   ],
   "source": [
    "# Split the training and validation datasets and their labels.\n",
    "\n",
    "from sklearn.model_selection import train_test_split\n",
    "\n",
    "# Split the training dataset into training and validation sets\n",
    "X_train, X_val, y_train, y_val = train_test_split(X_train, y_train, test_size=0.2, random_state=42)\n",
    "\n",
    "# Display dimensions of the training, validation, and testing sets\n",
    "print('Training set dimensions:')\n",
    "print('X_train shape:', X_train.shape)\n",
    "print('y_train shape:', y_train.shape)\n",
    "\n",
    "print('\\nValidation set dimensions:')\n",
    "print('X_val shape:', X_val.shape)\n",
    "print('y_val shape:', y_val.shape)\n",
    "\n",
    "print('\\nTesting set dimensions:')\n",
    "print('X_test shape:', X_test.shape)\n",
    "print('y_test shape:', y_test.shape)"
   ]
  },
  {
   "cell_type": "markdown",
   "metadata": {},
   "source": [
    "# Build the CNN structure"
   ]
  },
  {
   "cell_type": "code",
   "execution_count": null,
   "metadata": {},
   "outputs": [],
   "source": [
    "# Import the required libraries.\n",
    "\n",
    "\n",
    "# Create the model.\n",
    "\n",
    "\n",
    "# Add model layers as specified.\n"
   ]
  },
  {
   "cell_type": "markdown",
   "metadata": {},
   "source": [
    "# Compile the model and summarize the layers"
   ]
  },
  {
   "cell_type": "code",
   "execution_count": 7,
   "metadata": {},
   "outputs": [
    {
     "name": "stdout",
     "output_type": "stream",
     "text": [
      "Model: \"sequential\"\n",
      "_________________________________________________________________\n",
      "Layer (type)                 Output Shape              Param #   \n",
      "=================================================================\n",
      "conv2d (Conv2D)              (None, 26, 26, 32)        320       \n",
      "_________________________________________________________________\n",
      "max_pooling2d (MaxPooling2D) (None, 13, 13, 32)        0         \n",
      "_________________________________________________________________\n",
      "conv2d_1 (Conv2D)            (None, 11, 11, 64)        18496     \n",
      "_________________________________________________________________\n",
      "max_pooling2d_1 (MaxPooling2 (None, 5, 5, 64)          0         \n",
      "_________________________________________________________________\n",
      "conv2d_2 (Conv2D)            (None, 3, 3, 64)          36928     \n",
      "_________________________________________________________________\n",
      "flatten (Flatten)            (None, 576)               0         \n",
      "_________________________________________________________________\n",
      "dense (Dense)                (None, 64)                36928     \n",
      "_________________________________________________________________\n",
      "dense_1 (Dense)              (None, 10)                650       \n",
      "=================================================================\n",
      "Total params: 93,322\n",
      "Trainable params: 93,322\n",
      "Non-trainable params: 0\n",
      "_________________________________________________________________\n"
     ]
    }
   ],
   "source": [
    "# Compile the model.\n",
    "#   - Use the adam optimizer.\n",
    "#   - Use categorical_crossentropy for the loss function.\n",
    "#   - Use accuracy to measure model performance.\n",
    "\n",
    "# Import required libraries.\n",
    "import numpy as np\n",
    "import tensorflow as tf\n",
    "from tensorflow import keras\n",
    "from tensorflow.keras import layers\n",
    "\n",
    "# Create the model.\n",
    "model = keras.Sequential()\n",
    "\n",
    "# Add model layers as specified.\n",
    "model.add(layers.Input(shape=(28, 28, 1)))  # Input layer for MNIST images (28x28 pixels, greyscale)\n",
    "model.add(layers.Conv2D(32, (3, 3), activation='relu'))  # Convolutional layer with 32 filters and ReLU activation\n",
    "model.add(layers.MaxPooling2D((2, 2)))  # Max-pooling layer\n",
    "model.add(layers.Conv2D(64, (3, 3), activation='relu'))  # Another convolutional layer with 64 filters and ReLU activation\n",
    "model.add(layers.MaxPooling2D((2, 2)))  # Another max-pooling layer\n",
    "model.add(layers.Conv2D(64, (3, 3), activation='relu'))  # Yet another convolutional layer with 64 filters and ReLU activation\n",
    "model.add(layers.Flatten())  # Flatten layer to convert the 2D output to 1D\n",
    "model.add(layers.Dense(64, activation='relu'))  # Fully connected layer with 64 units and ReLU activation\n",
    "model.add(layers.Dense(10, activation='softmax'))  # Output layer with 10 units for classification (softmax activation)\n",
    "\n",
    "# Print model summary\n",
    "model.summary()\n",
    "\n",
    "\n",
    "# Summarize the layers.\n"
   ]
  },
  {
   "cell_type": "markdown",
   "metadata": {},
   "source": [
    "# Plot a graph of the model"
   ]
  },
  {
   "cell_type": "code",
   "execution_count": 8,
   "metadata": {},
   "outputs": [
    {
     "name": "stdout",
     "output_type": "stream",
     "text": [
      "Collecting package metadata (current_repodata.json): done\n",
      "Solving environment: failed with initial frozen solve. Retrying with flexible solve.\n",
      "Collecting package metadata (repodata.json): done\n",
      "Solving environment: done\n",
      "\n",
      "\n",
      "==> WARNING: A newer version of conda exists. <==\n",
      "  current version: 4.8.2\n",
      "  latest version: 23.7.4\n",
      "\n",
      "Please update conda by running\n",
      "\n",
      "    $ conda update -n base conda\n",
      "\n",
      "\n",
      "\n",
      "## Package Plan ##\n",
      "\n",
      "  environment location: /opt/conda\n",
      "\n",
      "  added / updated specs:\n",
      "    - graphviz==2.40.1\n",
      "\n",
      "\n",
      "The following packages will be downloaded:\n",
      "\n",
      "    package                    |            build\n",
      "    ---------------------------|-----------------\n",
      "    ca-certificates-2023.7.22  |       hbcca054_0         146 KB  conda-forge\n",
      "    cairo-1.16.0               |    hcf35c78_1003         1.5 MB  conda-forge\n",
      "    certifi-2023.7.22          |     pyhd8ed1ab_0         150 KB  conda-forge\n",
      "    expat-2.2.9                |       he1b5a44_2         191 KB  conda-forge\n",
      "    fontconfig-2.13.1          |    h86ecdb6_1001         340 KB  conda-forge\n",
      "    fribidi-1.0.10             |       h36c2ea0_0         112 KB  conda-forge\n",
      "    gettext-0.19.8.1           |    hf34092f_1004         3.6 MB  conda-forge\n",
      "    glib-2.66.3                |       h58526e2_0         500 KB  conda-forge\n",
      "    graphite2-1.3.13           |    h58526e2_1001         102 KB  conda-forge\n",
      "    graphviz-2.40.1            |       h0511662_2         6.4 MB  conda-forge\n",
      "    harfbuzz-2.4.0             |       h9f30f68_3         1.5 MB  conda-forge\n",
      "    libglib-2.66.3             |       hbe7bbb4_0         3.0 MB  conda-forge\n",
      "    libiconv-1.16              |       h516909a_0         1.4 MB  conda-forge\n",
      "    libtool-2.4.6              |    h58526e2_1007         497 KB  conda-forge\n",
      "    libuuid-2.32.1             |    h14c3975_1000          26 KB  conda-forge\n",
      "    libxcb-1.13                |    h14c3975_1002         396 KB  conda-forge\n",
      "    libxml2-2.9.10             |       hee79883_0         1.3 MB  conda-forge\n",
      "    openssl-1.1.1h             |       h516909a_0         2.1 MB  conda-forge\n",
      "    pango-1.42.4               |       h7062337_4         521 KB  conda-forge\n",
      "    pcre-8.44                  |       he1b5a44_0         261 KB  conda-forge\n",
      "    pixman-0.38.0              |    h516909a_1003         594 KB  conda-forge\n",
      "    pthread-stubs-0.4          |    h36c2ea0_1001           5 KB  conda-forge\n",
      "    xorg-kbproto-1.0.7         |    h14c3975_1002          26 KB  conda-forge\n",
      "    xorg-libice-1.0.10         |       h516909a_0          57 KB  conda-forge\n",
      "    xorg-libsm-1.2.3           |    h84519dc_1000          25 KB  conda-forge\n",
      "    xorg-libx11-1.6.12         |       h36c2ea0_0         919 KB  conda-forge\n",
      "    xorg-libxau-1.0.9          |       h14c3975_0          13 KB  conda-forge\n",
      "    xorg-libxdmcp-1.1.3        |       h516909a_0          18 KB  conda-forge\n",
      "    xorg-libxext-1.3.4         |       h516909a_0          51 KB  conda-forge\n",
      "    xorg-libxpm-3.5.13         |       h516909a_0          63 KB  conda-forge\n",
      "    xorg-libxrender-0.9.10     |    h516909a_1002          31 KB  conda-forge\n",
      "    xorg-libxt-1.1.5           |    h516909a_1003         367 KB  conda-forge\n",
      "    xorg-renderproto-0.11.1    |    h14c3975_1002           8 KB  conda-forge\n",
      "    xorg-xextproto-7.3.0       |    h14c3975_1002          27 KB  conda-forge\n",
      "    xorg-xproto-7.0.31         |    h14c3975_1007          72 KB  conda-forge\n",
      "    ------------------------------------------------------------\n",
      "                                           Total:        26.1 MB\n",
      "\n",
      "The following NEW packages will be INSTALLED:\n",
      "\n",
      "  cairo              conda-forge/linux-64::cairo-1.16.0-hcf35c78_1003\n",
      "  expat              conda-forge/linux-64::expat-2.2.9-he1b5a44_2\n",
      "  fontconfig         conda-forge/linux-64::fontconfig-2.13.1-h86ecdb6_1001\n",
      "  fribidi            conda-forge/linux-64::fribidi-1.0.10-h36c2ea0_0\n",
      "  gettext            conda-forge/linux-64::gettext-0.19.8.1-hf34092f_1004\n",
      "  glib               conda-forge/linux-64::glib-2.66.3-h58526e2_0\n",
      "  graphite2          conda-forge/linux-64::graphite2-1.3.13-h58526e2_1001\n",
      "  graphviz           conda-forge/linux-64::graphviz-2.40.1-h0511662_2\n",
      "  harfbuzz           conda-forge/linux-64::harfbuzz-2.4.0-h9f30f68_3\n",
      "  libglib            conda-forge/linux-64::libglib-2.66.3-hbe7bbb4_0\n",
      "  libiconv           conda-forge/linux-64::libiconv-1.16-h516909a_0\n",
      "  libtool            conda-forge/linux-64::libtool-2.4.6-h58526e2_1007\n",
      "  libuuid            conda-forge/linux-64::libuuid-2.32.1-h14c3975_1000\n",
      "  libxcb             conda-forge/linux-64::libxcb-1.13-h14c3975_1002\n",
      "  libxml2            conda-forge/linux-64::libxml2-2.9.10-hee79883_0\n",
      "  pango              conda-forge/linux-64::pango-1.42.4-h7062337_4\n",
      "  pcre               conda-forge/linux-64::pcre-8.44-he1b5a44_0\n",
      "  pixman             conda-forge/linux-64::pixman-0.38.0-h516909a_1003\n",
      "  pthread-stubs      conda-forge/linux-64::pthread-stubs-0.4-h36c2ea0_1001\n",
      "  xorg-kbproto       conda-forge/linux-64::xorg-kbproto-1.0.7-h14c3975_1002\n",
      "  xorg-libice        conda-forge/linux-64::xorg-libice-1.0.10-h516909a_0\n",
      "  xorg-libsm         conda-forge/linux-64::xorg-libsm-1.2.3-h84519dc_1000\n",
      "  xorg-libx11        conda-forge/linux-64::xorg-libx11-1.6.12-h36c2ea0_0\n",
      "  xorg-libxau        conda-forge/linux-64::xorg-libxau-1.0.9-h14c3975_0\n",
      "  xorg-libxdmcp      conda-forge/linux-64::xorg-libxdmcp-1.1.3-h516909a_0\n",
      "  xorg-libxext       conda-forge/linux-64::xorg-libxext-1.3.4-h516909a_0\n",
      "  xorg-libxpm        conda-forge/linux-64::xorg-libxpm-3.5.13-h516909a_0\n",
      "  xorg-libxrender    conda-forge/linux-64::xorg-libxrender-0.9.10-h516909a_1002\n",
      "  xorg-libxt         conda-forge/linux-64::xorg-libxt-1.1.5-h516909a_1003\n",
      "  xorg-renderproto   conda-forge/linux-64::xorg-renderproto-0.11.1-h14c3975_1002\n",
      "  xorg-xextproto     conda-forge/linux-64::xorg-xextproto-7.3.0-h14c3975_1002\n",
      "  xorg-xproto        conda-forge/linux-64::xorg-xproto-7.0.31-h14c3975_1007\n",
      "\n",
      "The following packages will be UPDATED:\n",
      "\n",
      "  ca-certificates                     2020.4.5.1-hecc5488_0 --> 2023.7.22-hbcca054_0\n",
      "  certifi            conda-forge/linux-64::certifi-2020.4.~ --> conda-forge/noarch::certifi-2023.7.22-pyhd8ed1ab_0\n",
      "  openssl                                 1.1.1g-h516909a_0 --> 1.1.1h-h516909a_0\n",
      "\n",
      "\n",
      "\n",
      "Downloading and Extracting Packages\n",
      "libtool-2.4.6        | 497 KB    | ##################################### | 100% \n",
      "libuuid-2.32.1       | 26 KB     | ##################################### | 100% \n",
      "pango-1.42.4         | 521 KB    | ##################################### | 100% \n",
      "xorg-libxext-1.3.4   | 51 KB     | ##################################### | 100% \n",
      "xorg-libx11-1.6.12   | 919 KB    | ##################################### | 100% \n",
      "ca-certificates-2023 | 146 KB    | ##################################### | 100% \n",
      "fribidi-1.0.10       | 112 KB    | ##################################### | 100% \n",
      "xorg-xextproto-7.3.0 | 27 KB     | ##################################### | 100% \n",
      "libxml2-2.9.10       | 1.3 MB    | ##################################### | 100% \n",
      "openssl-1.1.1h       | 2.1 MB    | ##################################### | 100% \n",
      "xorg-libxt-1.1.5     | 367 KB    | ##################################### | 100% \n",
      "harfbuzz-2.4.0       | 1.5 MB    | ##################################### | 100% \n",
      "graphite2-1.3.13     | 102 KB    | ##################################### | 100% \n",
      "libiconv-1.16        | 1.4 MB    | ##################################### | 100% \n",
      "xorg-libice-1.0.10   | 57 KB     | ##################################### | 100% \n",
      "pthread-stubs-0.4    | 5 KB      | ##################################### | 100% \n",
      "pcre-8.44            | 261 KB    | ##################################### | 100% \n",
      "glib-2.66.3          | 500 KB    | ##################################### | 100% \n",
      "gettext-0.19.8.1     | 3.6 MB    | ##################################### | 100% \n",
      "libxcb-1.13          | 396 KB    | ##################################### | 100% \n",
      "xorg-libsm-1.2.3     | 25 KB     | ##################################### | 100% \n",
      "xorg-xproto-7.0.31   | 72 KB     | ##################################### | 100% \n",
      "xorg-libxpm-3.5.13   | 63 KB     | ##################################### | 100% \n",
      "xorg-libxau-1.0.9    | 13 KB     | ##################################### | 100% \n",
      "xorg-libxdmcp-1.1.3  | 18 KB     | ##################################### | 100% \n",
      "certifi-2023.7.22    | 150 KB    | ##################################### | 100% \n",
      "expat-2.2.9          | 191 KB    | ##################################### | 100% \n",
      "graphviz-2.40.1      | 6.4 MB    | ##################################### | 100% \n",
      "xorg-renderproto-0.1 | 8 KB      | ##################################### | 100% \n",
      "pixman-0.38.0        | 594 KB    | ##################################### | 100% \n",
      "libglib-2.66.3       | 3.0 MB    | ##################################### | 100% \n",
      "fontconfig-2.13.1    | 340 KB    | ##################################### | 100% \n",
      "cairo-1.16.0         | 1.5 MB    | ##################################### | 100% \n",
      "xorg-kbproto-1.0.7   | 26 KB     | ##################################### | 100% \n",
      "xorg-libxrender-0.9. | 31 KB     | ##################################### | 100% \n",
      "Preparing transaction: done\n",
      "Verifying transaction: done\n",
      "Executing transaction: done\n"
     ]
    }
   ],
   "source": [
    "# Install the required library.\n",
    "!conda install --yes graphviz==2.40.1"
   ]
  },
  {
   "cell_type": "code",
   "execution_count": 1,
   "metadata": {
    "scrolled": true
   },
   "outputs": [
    {
     "ename": "ModuleNotFoundError",
     "evalue": "No module named 'tensorflow'",
     "output_type": "error",
     "traceback": [
      "\u001b[1;31m---------------------------------------------------------------------------\u001b[0m",
      "\u001b[1;31mModuleNotFoundError\u001b[0m                       Traceback (most recent call last)",
      "Cell \u001b[1;32mIn[1], line 1\u001b[0m\n\u001b[1;32m----> 1\u001b[0m \u001b[39mfrom\u001b[39;00m \u001b[39mtensorflow\u001b[39;00m\u001b[39m.\u001b[39;00m\u001b[39mkeras\u001b[39;00m\u001b[39m.\u001b[39;00m\u001b[39mutils\u001b[39;00m \u001b[39mimport\u001b[39;00m plot_model\n\u001b[0;32m      3\u001b[0m \u001b[39m# Plot a graph of the model and save it to a file\u001b[39;00m\n\u001b[0;32m      4\u001b[0m plot_model(model, to_file\u001b[39m=\u001b[39m\u001b[39m'\u001b[39m\u001b[39mmodel_plot.png\u001b[39m\u001b[39m'\u001b[39m, show_shapes\u001b[39m=\u001b[39m\u001b[39mTrue\u001b[39;00m, show_layer_names\u001b[39m=\u001b[39m\u001b[39mTrue\u001b[39;00m)\n",
      "\u001b[1;31mModuleNotFoundError\u001b[0m: No module named 'tensorflow'"
     ]
    }
   ],
   "source": [
    "from tensorflow.keras.utils import plot_model\n",
    "\n",
    "# Plot a graph of the model and save it to a file\n",
    "plot_model(model, to_file='model_plot.png', show_shapes=True, show_layer_names=True)"
   ]
  },
  {
   "cell_type": "markdown",
   "metadata": {},
   "source": [
    "# Train the model"
   ]
  },
  {
   "cell_type": "code",
   "execution_count": 10,
   "metadata": {},
   "outputs": [
    {
     "name": "stdout",
     "output_type": "stream",
     "text": [
      "Train on 48000 samples, validate on 12000 samples\n",
      "48000/48000 [==============================] - 44s 921us/sample - loss: 1.1859 - accuracy: 0.5799 - val_loss: 0.4191 - val_accuracy: 0.8716\n",
      "Training loss: [1.185888703664144]\n",
      "Training accuracy: [0.57989585]\n",
      "Validation loss: [0.4191189640363057]\n",
      "Validation accuracy: [0.87158334]\n"
     ]
    }
   ],
   "source": [
    "# Train the model over 1 epoch.\n",
    "\n",
    "# Compile the model\n",
    "model.compile(optimizer='adam',  # You can choose your preferred optimizer\n",
    "              loss='categorical_crossentropy',  # Categorical cross-entropy for multi-class classification\n",
    "              metrics=['accuracy'])  # Monitor accuracy during training\n",
    "\n",
    "# Train the model for 1 epoch\n",
    "history = model.fit(X_train, y_train,  # Training data and labels\n",
    "                    epochs=1,           # Number of epochs (1 in this case)\n",
    "                    batch_size=64,      # Batch size for training\n",
    "                    validation_data=(X_val, y_val))  # Validation data and labels\n",
    "\n",
    "# Print training history (loss and accuracy for each epoch)\n",
    "print(\"Training loss:\", history.history['loss'])\n",
    "print(\"Training accuracy:\", history.history['accuracy'])\n",
    "print(\"Validation loss:\", history.history['val_loss'])\n",
    "print(\"Validation accuracy:\", history.history['val_accuracy'])"
   ]
  },
  {
   "cell_type": "markdown",
   "metadata": {},
   "source": [
    "# Evaluate the model on the test data"
   ]
  },
  {
   "cell_type": "code",
   "execution_count": 11,
   "metadata": {},
   "outputs": [
    {
     "name": "stdout",
     "output_type": "stream",
     "text": [
      "10000/1 - 3s - loss: 0.3472 - accuracy: 0.8738\n",
      "Test Loss: 0.4118614881157875\n",
      "Test Accuracy: 0.8738\n"
     ]
    }
   ],
   "source": [
    "# Evaluate the model on the test data\n",
    "test_loss, test_accuracy = model.evaluate(X_test, y_test, verbose=2)\n",
    "\n",
    "# Print the test loss and accuracy\n",
    "print(\"Test Loss:\", test_loss)\n",
    "print(\"Test Accuracy:\", test_accuracy)"
   ]
  },
  {
   "cell_type": "markdown",
   "metadata": {},
   "source": [
    "# Make predictions on the test data"
   ]
  },
  {
   "cell_type": "code",
   "execution_count": 12,
   "metadata": {},
   "outputs": [
    {
     "name": "stdout",
     "output_type": "stream",
     "text": [
      "Example 1: Predicted Class: 7, Actual Class: 7\n",
      "Example 2: Predicted Class: 2, Actual Class: 2\n",
      "Example 3: Predicted Class: 1, Actual Class: 1\n",
      "Example 4: Predicted Class: 0, Actual Class: 0\n",
      "Example 5: Predicted Class: 4, Actual Class: 4\n",
      "Example 6: Predicted Class: 1, Actual Class: 1\n",
      "Example 7: Predicted Class: 4, Actual Class: 4\n",
      "Example 8: Predicted Class: 9, Actual Class: 9\n",
      "Example 9: Predicted Class: 6, Actual Class: 5\n",
      "Example 10: Predicted Class: 9, Actual Class: 9\n",
      "Example 11: Predicted Class: 0, Actual Class: 0\n",
      "Example 12: Predicted Class: 6, Actual Class: 6\n",
      "Example 13: Predicted Class: 9, Actual Class: 9\n",
      "Example 14: Predicted Class: 0, Actual Class: 0\n",
      "Example 15: Predicted Class: 1, Actual Class: 1\n",
      "Example 16: Predicted Class: 5, Actual Class: 5\n",
      "Example 17: Predicted Class: 9, Actual Class: 9\n",
      "Example 18: Predicted Class: 7, Actual Class: 7\n",
      "Example 19: Predicted Class: 3, Actual Class: 3\n",
      "Example 20: Predicted Class: 4, Actual Class: 4\n",
      "Example 21: Predicted Class: 9, Actual Class: 9\n",
      "Example 22: Predicted Class: 6, Actual Class: 6\n",
      "Example 23: Predicted Class: 6, Actual Class: 6\n",
      "Example 24: Predicted Class: 5, Actual Class: 5\n",
      "Example 25: Predicted Class: 4, Actual Class: 4\n",
      "Example 26: Predicted Class: 0, Actual Class: 0\n",
      "Example 27: Predicted Class: 7, Actual Class: 7\n",
      "Example 28: Predicted Class: 4, Actual Class: 4\n",
      "Example 29: Predicted Class: 0, Actual Class: 0\n",
      "Example 30: Predicted Class: 1, Actual Class: 1\n"
     ]
    }
   ],
   "source": [
    "# Make predictions on the test data\n",
    "predictions = model.predict(X_test)\n",
    "\n",
    "# Show the first 30 examples\n",
    "num_examples_to_show = 30\n",
    "for i in range(num_examples_to_show):\n",
    "    # Get the predicted class (index with the highest probability)\n",
    "    predicted_class = np.argmax(predictions[i])\n",
    "    \n",
    "    # Print the predicted class and actual class\n",
    "    print(f\"Example {i + 1}: Predicted Class: {predicted_class}, Actual Class: {np.argmax(y_test[i])}\")"
   ]
  },
  {
   "cell_type": "markdown",
   "metadata": {},
   "source": [
    "# Visualize the predictions for 30 examples"
   ]
  },
  {
   "cell_type": "code",
   "execution_count": 13,
   "metadata": {
    "scrolled": false
   },
   "outputs": [
    {
     "data": {
      "image/png": "[encoded data removed]",
      "text/plain": [
       "<Figure size 1080x1080 with 30 Axes>"
      ]
     },
     "metadata": {
      "needs_background": "light"
     },
     "output_type": "display_data"
    }
   ],
   "source": [
    "# Using the test set, show the first 30 predictions, highlighting any incorrect predictions in color.\n",
    "import numpy as np\n",
    "import matplotlib.pyplot as plt\n",
    "\n",
    "# Make predictions on the test data\n",
    "predictions = model.predict(X_test)\n",
    "\n",
    "# Show the first 30 examples\n",
    "num_examples_to_show = 30\n",
    "plt.figure(figsize=(15, 15))\n",
    "\n",
    "for i in range(num_examples_to_show):\n",
    "    plt.subplot(5, 6, i + 1)\n",
    "    \n",
    "    # Get the predicted class (index with the highest probability)\n",
    "    predicted_class = np.argmax(predictions[i])\n",
    "    \n",
    "    # Get the actual class\n",
    "    actual_class = np.argmax(y_test[i])\n",
    "    \n",
    "    # Check if the prediction is correct\n",
    "    is_correct = predicted_class == actual_class\n",
    "    \n",
    "    # Display the image with a colored label based on correctness\n",
    "    plt.imshow(X_test[i].reshape(28, 28), cmap='gray')\n",
    "    plt.title(f'Pred: {predicted_class}\\nActual: {actual_class}', color='green' if is_correct else 'red')\n",
    "    plt.axis('off')\n",
    "\n",
    "plt.tight_layout()\n",
    "plt.show()"
   ]
  },
  {
   "cell_type": "code",
   "execution_count": null,
   "metadata": {},
   "outputs": [],
   "source": []
  }
 ],
 "metadata": {
  "kernelspec": {
   "display_name": "Python 3",
   "language": "python",
   "name": "python3"
  },
  "language_info": {
   "codemirror_mode": {
    "name": "ipython",
    "version": 3
   },
   "file_extension": ".py",
   "mimetype": "text/x-python",
   "name": "python",
   "nbconvert_exporter": "python",
   "pygments_lexer": "ipython3",
   "version": "3.11.4"
  }
 },
 "nbformat": 4,
 "nbformat_minor": 2
}
