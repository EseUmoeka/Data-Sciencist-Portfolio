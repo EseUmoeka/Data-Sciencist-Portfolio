{
 "cells": [
  {
   "cell_type": "markdown",
   "metadata": {},
   "source": [
    "# Import software libraries"
   ]
  },
  {
   "cell_type": "code",
   "execution_count": 1,
   "metadata": {},
   "outputs": [
    {
     "name": "stdout",
     "output_type": "stream",
     "text": [
      "Libraries used in this project:\n",
      "- NumPy 1.19.2\n",
      "- Python 3.7.6 | packaged by conda-forge | (default, Mar 23 2020, 23:03:20) \n",
      "[GCC 7.3.0]\n",
      "- pandas 1.1.3\n",
      "- Matplotlib 3.3.2\n",
      "- Seaborn 0.11.0\n"
     ]
    }
   ],
   "source": [
    "# Import required libraries.\n",
    "import sys                          # Read system parameters.\n",
    "import numpy as np                  # Work with multi-dimensional arrays.\n",
    "import pandas as pd                 # Manipulate and analyze data.\n",
    "import matplotlib                   # Create and format charts.\n",
    "import matplotlib.pyplot as plt  \n",
    "import seaborn as sns               # Make charting easier.\n",
    "\n",
    "# Summarize software libraries used.\n",
    "print('Libraries used in this project:')\n",
    "print('- NumPy {}'.format(np.__version__))\n",
    "print('- Python {}'.format(sys.version))\n",
    "print('- pandas {}'.format(pd.__version__))\n",
    "print('- Matplotlib {}'.format(matplotlib.__version__))\n",
    "print('- Seaborn {}'.format(sns.__version__))"
   ]
  },
  {
   "cell_type": "markdown",
   "metadata": {},
   "source": [
    "# Read and examine the data"
   ]
  },
  {
   "cell_type": "code",
   "execution_count": 2,
   "metadata": {},
   "outputs": [
    {
     "name": "stdout",
     "output_type": "stream",
     "text": [
      "  Invoice StockCode  Quantity         InvoiceDate  Price CustomerID  \\\n",
      "0  536365    85123A         6 2010-12-01 08:26:00   2.55      u1785   \n",
      "1  536367     84879        32 2010-12-01 08:34:00   1.69     u13047   \n",
      "2  536373    85123A         6 2010-12-01 09:02:00   2.55      u1785   \n",
      "3  536375    85123A         6 2010-12-01 09:32:00   2.55      u1785   \n",
      "4  536378     20725        10 2010-12-01 09:37:00   1.65     u14688   \n",
      "\n",
      "          Country  TotalAmount                         Description  \n",
      "0  United Kingdom        15.30  CREAM HANGING HEART T-LIGHT HOLDER  \n",
      "1  United Kingdom        54.08       ASSORTED COLOUR BIRD ORNAMENT  \n",
      "2  United Kingdom        15.30  CREAM HANGING HEART T-LIGHT HOLDER  \n",
      "3  United Kingdom        15.30  CREAM HANGING HEART T-LIGHT HOLDER  \n",
      "4  United Kingdom        16.50             LUNCH BAG RED RETROSPOT  \n"
     ]
    }
   ],
   "source": [
    "# Read the data that was put through the ETL process in Course 2 of the CDSP Specialization. \n",
    "\n",
    "df = pd.read_pickle('data/online_history_cleaned.pickle')\n",
    "\n",
    "# Preview the first five rows of the data.\n",
    "\n",
    "print(df.head())"
   ]
  },
  {
   "cell_type": "code",
   "execution_count": 3,
   "metadata": {},
   "outputs": [
    {
     "data": {
      "text/plain": [
       "(15206, 9)"
      ]
     },
     "execution_count": 3,
     "metadata": {},
     "output_type": "execute_result"
    }
   ],
   "source": [
    "# Get the shape of the data.\n",
    "\n",
    "df.shape"
   ]
  },
  {
   "cell_type": "code",
   "execution_count": 4,
   "metadata": {},
   "outputs": [
    {
     "name": "stdout",
     "output_type": "stream",
     "text": [
      "Data types for every column:\n",
      "Invoice                object\n",
      "StockCode              object\n",
      "Quantity                int64\n",
      "InvoiceDate    datetime64[ns]\n",
      "Price                 float64\n",
      "CustomerID             object\n",
      "Country                object\n",
      "TotalAmount           float64\n",
      "Description            object\n",
      "dtype: object\n"
     ]
    }
   ],
   "source": [
    "# Get the data types for every column in the DataFrame.\n",
    "\n",
    "column_data_types = df.dtypes\n",
    "print(\"Data types for every column:\")\n",
    "print(column_data_types)"
   ]
  },
  {
   "cell_type": "markdown",
   "metadata": {},
   "source": [
    "# Generate summary statistics for all of the data"
   ]
  },
  {
   "cell_type": "code",
   "execution_count": 5,
   "metadata": {},
   "outputs": [
    {
     "name": "stdout",
     "output_type": "stream",
     "text": [
      "Summary statistics:\n",
      "       Invoice StockCode      Quantity          InvoiceDate         Price  \\\n",
      "count    15206     15206  15206.000000                15206  15194.000000   \n",
      "unique    8315        10           NaN                 8022           NaN   \n",
      "top     536876    85123A           NaN  2011-05-10 15:07:00           NaN   \n",
      "freq        10      2163           NaN                   10           NaN   \n",
      "first      NaN       NaN           NaN  2010-12-01 08:26:00           NaN   \n",
      "last       NaN       NaN           NaN  2011-12-09 12:31:00           NaN   \n",
      "mean       NaN       NaN     16.775483                  NaN      4.164267   \n",
      "std        NaN       NaN     79.496270                  NaN      4.377605   \n",
      "min        NaN       NaN      1.000000                  NaN      0.400000   \n",
      "25%        NaN       NaN      2.000000                  NaN      1.650000   \n",
      "50%        NaN       NaN      6.000000                  NaN      2.550000   \n",
      "75%        NaN       NaN     12.000000                  NaN      4.950000   \n",
      "max        NaN       NaN   4300.000000                  NaN     32.040000   \n",
      "\n",
      "       CustomerID         Country   TotalAmount  \\\n",
      "count       12435           15206  15194.000000   \n",
      "unique       2473               1           NaN   \n",
      "top        u17841  United Kingdom           NaN   \n",
      "freq          171           15206           NaN   \n",
      "first         NaN             NaN           NaN   \n",
      "last          NaN             NaN           NaN   \n",
      "mean          NaN             NaN     40.705153   \n",
      "std           NaN             NaN    132.142503   \n",
      "min           NaN             NaN      0.550000   \n",
      "25%           NaN             NaN      8.850000   \n",
      "50%           NaN             NaN     16.500000   \n",
      "75%           NaN             NaN     30.360000   \n",
      "max           NaN             NaN   4921.500000   \n",
      "\n",
      "                               Description  \n",
      "count                                15206  \n",
      "unique                                  10  \n",
      "top     CREAM HANGING HEART T-LIGHT HOLDER  \n",
      "freq                                  2163  \n",
      "first                                  NaN  \n",
      "last                                   NaN  \n",
      "mean                                   NaN  \n",
      "std                                    NaN  \n",
      "min                                    NaN  \n",
      "25%                                    NaN  \n",
      "50%                                    NaN  \n",
      "75%                                    NaN  \n",
      "max                                    NaN  \n"
     ]
    }
   ],
   "source": [
    "# Get a DataFrame of summary statistics that describe the data, including mean, median, standard deviation, etc.\n",
    "# Be sure to include all variables, including categorical ones.\n",
    "\n",
    "summary_statistics = df.describe(include='all')\n",
    "\n",
    "# Print the summary statistics\n",
    "print(\"Summary statistics:\")\n",
    "print(summary_statistics)"
   ]
  },
  {
   "cell_type": "markdown",
   "metadata": {},
   "source": [
    "# Plot a bar chart for the average price per item"
   ]
  },
  {
   "cell_type": "code",
   "execution_count": 6,
   "metadata": {},
   "outputs": [
    {
     "data": {
      "image/png": "[encoded data removed]",
      "text/plain": [
       "<Figure size 864x432 with 1 Axes>"
      ]
     },
     "metadata": {
      "needs_background": "light"
     },
     "output_type": "display_data"
    }
   ],
   "source": [
    "# Plot the average price per item using a bar chart.\n",
    "# Make sure the average price is on one axis, and each distinct item description is on the other axis.\n",
    "\n",
    "average_price_per_item = df.groupby('Description')['Price'].mean().reset_index()\n",
    "\n",
    "plt.figure(figsize=(12, 6))  \n",
    "plt.bar(average_price_per_item['Description'], average_price_per_item['Price'], color='skyblue')\n",
    "plt.title('Average Price per Item')\n",
    "plt.xlabel('Item Description')\n",
    "plt.ylabel('Average Price')\n",
    "plt.xticks(rotation=90) \n",
    "plt.tight_layout()\n",
    "\n",
    "plt.show()"
   ]
  },
  {
   "cell_type": "markdown",
   "metadata": {},
   "source": [
    "# Explore the distribution of the numeric variable `Price`"
   ]
  },
  {
   "cell_type": "code",
   "execution_count": 7,
   "metadata": {},
   "outputs": [],
   "source": [
    "# Get a DataFrame of summary statistics for numeric variables only.\n",
    "\n",
    "numeric_summary = df.describe(include=[np.number])"
   ]
  },
  {
   "cell_type": "code",
   "execution_count": 8,
   "metadata": {},
   "outputs": [
    {
     "data": {
      "image/png": "[encoded data removed]",
      "text/plain": [
       "<Figure size 720x432 with 1 Axes>"
      ]
     },
     "metadata": {
      "needs_background": "light"
     },
     "output_type": "display_data"
    }
   ],
   "source": [
    "# Generate a violin plot for the \"Price\" variable.\n",
    "# Decorate and style the plot however you think is best.\n",
    "\n",
    "plt.figure(figsize=(10, 6))\n",
    "sns.violinplot(x='Price', data=df, color='blue', inner='quartiles')\n",
    "\n",
    "plt.xlabel('Price')\n",
    "plt.title('Violin Plot of Price Variable')\n",
    "\n",
    "plt.show()"
   ]
  },
  {
   "cell_type": "markdown",
   "metadata": {},
   "source": [
    "# Visualize correlations between numeric variables"
   ]
  },
  {
   "cell_type": "code",
   "execution_count": 9,
   "metadata": {},
   "outputs": [
    {
     "name": "stdout",
     "output_type": "stream",
     "text": [
      "Correlation Matrix between Numeric Variables:\n",
      "             Quantity     Price  TotalAmount\n",
      "Quantity     1.000000 -0.088356     0.745641\n",
      "Price       -0.088356  1.000000     0.109054\n",
      "TotalAmount  0.745641  0.109054     1.000000\n"
     ]
    }
   ],
   "source": [
    "# Generate a correlation matrix between all numeric variables.\n",
    "\n",
    "correlation_matrix = df.corr()\n",
    "\n",
    "print(\"Correlation Matrix between Numeric Variables:\")\n",
    "print(correlation_matrix)"
   ]
  },
  {
   "cell_type": "code",
   "execution_count": 10,
   "metadata": {},
   "outputs": [
    {
     "data": {
      "image/png": "[encoded data removed]",
      "text/plain": [
       "<Figure size 720x576 with 2 Axes>"
      ]
     },
     "metadata": {
      "needs_background": "light"
     },
     "output_type": "display_data"
    }
   ],
   "source": [
    "# Visualize the correlations with a heatmap.\n",
    "\n",
    "plt.figure(figsize=(10, 8))\n",
    "sns.heatmap(correlation_matrix, annot=True, cmap='coolwarm', fmt=\".2f\", linewidths=0.5)\n",
    "\n",
    "plt.title('Correlation Heatmap')\n",
    "\n",
    "plt.show()"
   ]
  },
  {
   "cell_type": "markdown",
   "metadata": {},
   "source": [
    "# Transform skewed variables"
   ]
  },
  {
   "cell_type": "code",
   "execution_count": 11,
   "metadata": {},
   "outputs": [
    {
     "data": {
      "image/png": "[encoded data removed]",
      "text/plain": [
       "<Figure size 576x432 with 3 Axes>"
      ]
     },
     "metadata": {
      "needs_background": "light"
     },
     "output_type": "display_data"
    }
   ],
   "source": [
    "# Plot histograms for the original distributions of all numeric variables.\n",
    "\n",
    "numeric_columns = df.select_dtypes(include=['number']).columns\n",
    "\n",
    "fig, axes = plt.subplots(nrows=len(numeric_columns), ncols=1, figsize=(8, 2 * len(numeric_columns)))\n",
    "\n",
    "for i, column in enumerate(numeric_columns):\n",
    "    ax = axes[i]\n",
    "    ax.hist(df[column], bins=20, color='skyblue', alpha=0.7)\n",
    "    ax.set_title(f'Original Distribution of {column}')\n",
    "    ax.set_xlabel(column)\n",
    "    ax.set_ylabel('Frequency')\n",
    "\n",
    "plt.tight_layout()\n",
    "\n",
    "plt.show()"
   ]
  },
  {
   "cell_type": "code",
   "execution_count": 12,
   "metadata": {},
   "outputs": [
    {
     "data": {
      "image/png": "[encoded data removed]",
      "text/plain": [
       "<Figure size 576x432 with 1 Axes>"
      ]
     },
     "metadata": {
      "needs_background": "light"
     },
     "output_type": "display_data"
    }
   ],
   "source": [
    "# Plot the log transformation of \"Price\".\n",
    "\n",
    "df['Log_Price'] = np.log1p(df['Price'])\n",
    "\n",
    "plt.figure(figsize=(8, 6))\n",
    "plt.hist(df['Log_Price'], bins=20, color='orange', alpha=0.7)\n",
    "plt.title('Log Transformation of Price')\n",
    "plt.xlabel('Log(Price + 1)')\n",
    "plt.ylabel('Frequency')\n",
    "\n",
    "plt.show()"
   ]
  },
  {
   "cell_type": "code",
   "execution_count": 13,
   "metadata": {},
   "outputs": [
    {
     "data": {
      "image/png": "[encoded data removed]",
      "text/plain": [
       "<Figure size 576x432 with 1 Axes>"
      ]
     },
     "metadata": {
      "needs_background": "light"
     },
     "output_type": "display_data"
    }
   ],
   "source": [
    "# Plot the log transformation of \"Quantity\".\n",
    "\n",
    "df['Log_Quantity'] = np.log1p(df['Quantity'])\n",
    "\n",
    "plt.figure(figsize=(8, 6))\n",
    "plt.hist(df['Log_Quantity'], bins=20, color='green', alpha=0.7)\n",
    "plt.title('Log Transformation of Quantity')\n",
    "plt.xlabel('Log(Quantity + 1)')\n",
    "plt.ylabel('Frequency')\n",
    "\n",
    "plt.show()"
   ]
  },
  {
   "cell_type": "code",
   "execution_count": 14,
   "metadata": {},
   "outputs": [
    {
     "data": {
      "image/png": "[encoded data removed]",
      "text/plain": [
       "<Figure size 576x432 with 1 Axes>"
      ]
     },
     "metadata": {
      "needs_background": "light"
     },
     "output_type": "display_data"
    }
   ],
   "source": [
    "# Plot the log transformation of \"TotalAmount\".\n",
    "\n",
    "df['Log_TotalAmount'] = np.log1p(df['TotalAmount'])\n",
    "\n",
    "plt.figure(figsize=(8, 6))\n",
    "plt.hist(df['Log_TotalAmount'], bins=20, color='purple', alpha=0.7)\n",
    "plt.title('Log Transformation of TotalAmount')\n",
    "plt.xlabel('Log(TotalAmount + 1)')\n",
    "plt.ylabel('Frequency')\n",
    "\n",
    "plt.show()"
   ]
  },
  {
   "cell_type": "markdown",
   "metadata": {},
   "source": [
    "# Analyze time series data"
   ]
  },
  {
   "cell_type": "code",
   "execution_count": 15,
   "metadata": {},
   "outputs": [
    {
     "name": "stdout",
     "output_type": "stream",
     "text": [
      "Number of invoices by month:\n",
      "Month\n",
      "1     502\n",
      "2     511\n",
      "3     696\n",
      "4     602\n",
      "5     783\n",
      "6     665\n",
      "7     667\n",
      "8     602\n",
      "9     750\n",
      "10    713\n",
      "11    968\n",
      "12    856\n",
      "Name: Invoice, dtype: int64\n"
     ]
    }
   ],
   "source": [
    "# Obtain the number of invoices by month.\n",
    "\n",
    "df['InvoiceDate'] = pd.to_datetime(df['InvoiceDate'])\n",
    "\n",
    "df['Month'] = df['InvoiceDate'].dt.month\n",
    "\n",
    "invoices_by_month = df.groupby('Month')['Invoice'].nunique()\n",
    "\n",
    "# Print the number of invoices by month.\n",
    "\n",
    "print(\"Number of invoices by month:\")\n",
    "print(invoices_by_month)"
   ]
  },
  {
   "cell_type": "code",
   "execution_count": 16,
   "metadata": {},
   "outputs": [
    {
     "data": {
      "image/png": "[encoded data removed]",
      "text/plain": [
       "<Figure size 720x432 with 1 Axes>"
      ]
     },
     "metadata": {
      "needs_background": "light"
     },
     "output_type": "display_data"
    }
   ],
   "source": [
    "# Use a bar chart to plot the number of invoices by month.\n",
    "\n",
    "plt.figure(figsize=(10, 6))\n",
    "plt.bar(invoices_by_month.index, invoices_by_month, color='red')\n",
    "plt.title('Number of Invoices by Month')\n",
    "plt.xlabel('Month')\n",
    "plt.ylabel('Number of Invoices')\n",
    "\n",
    "month_names = ['Jan', 'Feb', 'Mar', 'Apr', 'May', 'Jun', 'Jul', 'Aug', 'Sep', 'Oct', 'Nov', 'Dec']\n",
    "plt.xticks(invoices_by_month.index, month_names)\n",
    "\n",
    "plt.show()"
   ]
  },
  {
   "cell_type": "markdown",
   "metadata": {},
   "source": [
    "# Identify and handle missing data"
   ]
  },
  {
   "cell_type": "code",
   "execution_count": 17,
   "metadata": {},
   "outputs": [],
   "source": [
    "# Identify any missing data for all variables.\n",
    "\n",
    "missing_data = df.isna().sum()"
   ]
  },
  {
   "cell_type": "code",
   "execution_count": 18,
   "metadata": {},
   "outputs": [
    {
     "name": "stdout",
     "output_type": "stream",
     "text": [
      "Current Shape of the Data: (15206, 13)\n",
      "New Shape of the Data after Removing Rows with Unknown CustomerID: (12435, 13)\n"
     ]
    }
   ],
   "source": [
    "# Print the current shape of the data.\n",
    "\n",
    "print(\"Current Shape of the Data:\", df.shape)\n",
    "\n",
    "# Remove rows where \"CustomerID\" is unknown (missing)\n",
    "df_cleaned = df.dropna(subset=['CustomerID'])\n",
    "\n",
    "# Print the new shape of the data.\n",
    "\n",
    "print(\"New Shape of the Data after Removing Rows with Unknown CustomerID:\", df_cleaned.shape)"
   ]
  },
  {
   "cell_type": "code",
   "execution_count": 19,
   "metadata": {},
   "outputs": [
    {
     "name": "stdout",
     "output_type": "stream",
     "text": [
      "Missing Data Counts for Each Variable (After Fillna):\n",
      "Invoice               0\n",
      "StockCode             0\n",
      "Quantity              0\n",
      "InvoiceDate           0\n",
      "Price                 0\n",
      "CustomerID         2771\n",
      "Country               0\n",
      "TotalAmount           0\n",
      "Description           0\n",
      "Log_Price            12\n",
      "Log_Quantity          0\n",
      "Log_TotalAmount      12\n",
      "Month                 0\n",
      "dtype: int64\n"
     ]
    }
   ],
   "source": [
    "# Fill in N/A values for \"Price\" and \"TotalAmount\" with 0.\n",
    "\n",
    "df['Price'].fillna(0, inplace=True)\n",
    "df['TotalAmount'].fillna(0, inplace=True)\n",
    "\n",
    "# Confirm there are no longer any missing values.\n",
    "\n",
    "missing_data = df.isna().sum()\n",
    "print(\"Missing Data Counts for Each Variable (After Fillna):\")\n",
    "print(missing_data)"
   ]
  },
  {
   "cell_type": "markdown",
   "metadata": {},
   "source": [
    "# One-hot encode the `Description` variable"
   ]
  },
  {
   "cell_type": "code",
   "execution_count": 20,
   "metadata": {
    "scrolled": false
   },
   "outputs": [
    {
     "data": {
      "text/html": [
       "<div>\n",
       "<style scoped>\n",
       "    .dataframe tbody tr th:only-of-type {\n",
       "        vertical-align: middle;\n",
       "    }\n",
       "\n",
       "    .dataframe tbody tr th {\n",
       "        vertical-align: top;\n",
       "    }\n",
       "\n",
       "    .dataframe thead th {\n",
       "        text-align: right;\n",
       "    }\n",
       "</style>\n",
       "<table border=\"1\" class=\"dataframe\">\n",
       "  <thead>\n",
       "    <tr style=\"text-align: right;\">\n",
       "      <th></th>\n",
       "      <th>Invoice</th>\n",
       "      <th>StockCode</th>\n",
       "      <th>Quantity</th>\n",
       "      <th>InvoiceDate</th>\n",
       "      <th>Price</th>\n",
       "      <th>CustomerID</th>\n",
       "      <th>Country</th>\n",
       "      <th>TotalAmount</th>\n",
       "      <th>Log_Price</th>\n",
       "      <th>Log_Quantity</th>\n",
       "      <th>...</th>\n",
       "      <th>Description_ASSORTED COLOUR BIRD ORNAMENT</th>\n",
       "      <th>Description_CREAM HANGING HEART T-LIGHT HOLDER</th>\n",
       "      <th>Description_JUMBO BAG RED RETROSPOT</th>\n",
       "      <th>Description_LUNCH BAG  BLACK SKULL.</th>\n",
       "      <th>Description_LUNCH BAG RED RETROSPOT</th>\n",
       "      <th>Description_PACK OF 72 RETROSPOT CAKE CASES</th>\n",
       "      <th>Description_PARTY BUNTING</th>\n",
       "      <th>Description_POPCORN HOLDER</th>\n",
       "      <th>Description_REGENCY CAKESTAND 3 TIER</th>\n",
       "      <th>Description_SET OF 3 CAKE TINS PANTRY DESIGN</th>\n",
       "    </tr>\n",
       "  </thead>\n",
       "  <tbody>\n",
       "    <tr>\n",
       "      <th>0</th>\n",
       "      <td>536365</td>\n",
       "      <td>85123A</td>\n",
       "      <td>6</td>\n",
       "      <td>2010-12-01 08:26:00</td>\n",
       "      <td>2.55</td>\n",
       "      <td>u1785</td>\n",
       "      <td>United Kingdom</td>\n",
       "      <td>15.30</td>\n",
       "      <td>1.266948</td>\n",
       "      <td>1.945910</td>\n",
       "      <td>...</td>\n",
       "      <td>0</td>\n",
       "      <td>1</td>\n",
       "      <td>0</td>\n",
       "      <td>0</td>\n",
       "      <td>0</td>\n",
       "      <td>0</td>\n",
       "      <td>0</td>\n",
       "      <td>0</td>\n",
       "      <td>0</td>\n",
       "      <td>0</td>\n",
       "    </tr>\n",
       "    <tr>\n",
       "      <th>1</th>\n",
       "      <td>536367</td>\n",
       "      <td>84879</td>\n",
       "      <td>32</td>\n",
       "      <td>2010-12-01 08:34:00</td>\n",
       "      <td>1.69</td>\n",
       "      <td>u13047</td>\n",
       "      <td>United Kingdom</td>\n",
       "      <td>54.08</td>\n",
       "      <td>0.989541</td>\n",
       "      <td>3.496508</td>\n",
       "      <td>...</td>\n",
       "      <td>1</td>\n",
       "      <td>0</td>\n",
       "      <td>0</td>\n",
       "      <td>0</td>\n",
       "      <td>0</td>\n",
       "      <td>0</td>\n",
       "      <td>0</td>\n",
       "      <td>0</td>\n",
       "      <td>0</td>\n",
       "      <td>0</td>\n",
       "    </tr>\n",
       "    <tr>\n",
       "      <th>2</th>\n",
       "      <td>536373</td>\n",
       "      <td>85123A</td>\n",
       "      <td>6</td>\n",
       "      <td>2010-12-01 09:02:00</td>\n",
       "      <td>2.55</td>\n",
       "      <td>u1785</td>\n",
       "      <td>United Kingdom</td>\n",
       "      <td>15.30</td>\n",
       "      <td>1.266948</td>\n",
       "      <td>1.945910</td>\n",
       "      <td>...</td>\n",
       "      <td>0</td>\n",
       "      <td>1</td>\n",
       "      <td>0</td>\n",
       "      <td>0</td>\n",
       "      <td>0</td>\n",
       "      <td>0</td>\n",
       "      <td>0</td>\n",
       "      <td>0</td>\n",
       "      <td>0</td>\n",
       "      <td>0</td>\n",
       "    </tr>\n",
       "    <tr>\n",
       "      <th>3</th>\n",
       "      <td>536375</td>\n",
       "      <td>85123A</td>\n",
       "      <td>6</td>\n",
       "      <td>2010-12-01 09:32:00</td>\n",
       "      <td>2.55</td>\n",
       "      <td>u1785</td>\n",
       "      <td>United Kingdom</td>\n",
       "      <td>15.30</td>\n",
       "      <td>1.266948</td>\n",
       "      <td>1.945910</td>\n",
       "      <td>...</td>\n",
       "      <td>0</td>\n",
       "      <td>1</td>\n",
       "      <td>0</td>\n",
       "      <td>0</td>\n",
       "      <td>0</td>\n",
       "      <td>0</td>\n",
       "      <td>0</td>\n",
       "      <td>0</td>\n",
       "      <td>0</td>\n",
       "      <td>0</td>\n",
       "    </tr>\n",
       "    <tr>\n",
       "      <th>4</th>\n",
       "      <td>536378</td>\n",
       "      <td>20725</td>\n",
       "      <td>10</td>\n",
       "      <td>2010-12-01 09:37:00</td>\n",
       "      <td>1.65</td>\n",
       "      <td>u14688</td>\n",
       "      <td>United Kingdom</td>\n",
       "      <td>16.50</td>\n",
       "      <td>0.974560</td>\n",
       "      <td>2.397895</td>\n",
       "      <td>...</td>\n",
       "      <td>0</td>\n",
       "      <td>0</td>\n",
       "      <td>0</td>\n",
       "      <td>0</td>\n",
       "      <td>1</td>\n",
       "      <td>0</td>\n",
       "      <td>0</td>\n",
       "      <td>0</td>\n",
       "      <td>0</td>\n",
       "      <td>0</td>\n",
       "    </tr>\n",
       "  </tbody>\n",
       "</table>\n",
       "<p>5 rows × 22 columns</p>\n",
       "</div>"
      ],
      "text/plain": [
       "  Invoice StockCode  Quantity         InvoiceDate  Price CustomerID  \\\n",
       "0  536365    85123A         6 2010-12-01 08:26:00   2.55      u1785   \n",
       "1  536367     84879        32 2010-12-01 08:34:00   1.69     u13047   \n",
       "2  536373    85123A         6 2010-12-01 09:02:00   2.55      u1785   \n",
       "3  536375    85123A         6 2010-12-01 09:32:00   2.55      u1785   \n",
       "4  536378     20725        10 2010-12-01 09:37:00   1.65     u14688   \n",
       "\n",
       "          Country  TotalAmount  Log_Price  Log_Quantity  ...  \\\n",
       "0  United Kingdom        15.30   1.266948      1.945910  ...   \n",
       "1  United Kingdom        54.08   0.989541      3.496508  ...   \n",
       "2  United Kingdom        15.30   1.266948      1.945910  ...   \n",
       "3  United Kingdom        15.30   1.266948      1.945910  ...   \n",
       "4  United Kingdom        16.50   0.974560      2.397895  ...   \n",
       "\n",
       "   Description_ASSORTED COLOUR BIRD ORNAMENT  \\\n",
       "0                                          0   \n",
       "1                                          1   \n",
       "2                                          0   \n",
       "3                                          0   \n",
       "4                                          0   \n",
       "\n",
       "   Description_CREAM HANGING HEART T-LIGHT HOLDER  \\\n",
       "0                                               1   \n",
       "1                                               0   \n",
       "2                                               1   \n",
       "3                                               1   \n",
       "4                                               0   \n",
       "\n",
       "   Description_JUMBO BAG RED RETROSPOT  Description_LUNCH BAG  BLACK SKULL.  \\\n",
       "0                                    0                                    0   \n",
       "1                                    0                                    0   \n",
       "2                                    0                                    0   \n",
       "3                                    0                                    0   \n",
       "4                                    0                                    0   \n",
       "\n",
       "   Description_LUNCH BAG RED RETROSPOT  \\\n",
       "0                                    0   \n",
       "1                                    0   \n",
       "2                                    0   \n",
       "3                                    0   \n",
       "4                                    1   \n",
       "\n",
       "   Description_PACK OF 72 RETROSPOT CAKE CASES  Description_PARTY BUNTING  \\\n",
       "0                                            0                          0   \n",
       "1                                            0                          0   \n",
       "2                                            0                          0   \n",
       "3                                            0                          0   \n",
       "4                                            0                          0   \n",
       "\n",
       "   Description_POPCORN HOLDER  Description_REGENCY CAKESTAND 3 TIER  \\\n",
       "0                           0                                     0   \n",
       "1                           0                                     0   \n",
       "2                           0                                     0   \n",
       "3                           0                                     0   \n",
       "4                           0                                     0   \n",
       "\n",
       "   Description_SET OF 3 CAKE TINS PANTRY DESIGN   \n",
       "0                                              0  \n",
       "1                                              0  \n",
       "2                                              0  \n",
       "3                                              0  \n",
       "4                                              0  \n",
       "\n",
       "[5 rows x 22 columns]"
      ]
     },
     "execution_count": 20,
     "metadata": {},
     "output_type": "execute_result"
    }
   ],
   "source": [
    "# One-hot encode the \"Description\" variable with dummy variables for each unique description.\n",
    "# Prefix each dummy variable name with \"Description\".\n",
    "\n",
    "description_columns = [column for column in df.columns if column.startswith('Description')]\n",
    "df = pd.get_dummies(df, columns=description_columns)\n",
    "\n",
    "# Preview the first five rows of the DataFrame.\n",
    "\n",
    "df.head()"
   ]
  },
  {
   "cell_type": "code",
   "execution_count": 32,
   "metadata": {},
   "outputs": [],
   "source": [
    "# Concatenate the new encoded columns with the main DataFrame.\n",
    "\n",
    "df = pd.concat([df, df.iloc[:, 12:]], axis=1)\n",
    "           \n",
    "# Drop the original \"Description\" variable.\n",
    "\n",
    "df = df.drop(df.filter(like='Description').columns, axis=1)"
   ]
  },
  {
   "cell_type": "code",
   "execution_count": 33,
   "metadata": {},
   "outputs": [
    {
     "data": {
      "text/html": [
       "<div>\n",
       "<style scoped>\n",
       "    .dataframe tbody tr th:only-of-type {\n",
       "        vertical-align: middle;\n",
       "    }\n",
       "\n",
       "    .dataframe tbody tr th {\n",
       "        vertical-align: top;\n",
       "    }\n",
       "\n",
       "    .dataframe thead th {\n",
       "        text-align: right;\n",
       "    }\n",
       "</style>\n",
       "<table border=\"1\" class=\"dataframe\">\n",
       "  <thead>\n",
       "    <tr style=\"text-align: right;\">\n",
       "      <th></th>\n",
       "      <th>Invoice</th>\n",
       "      <th>StockCode</th>\n",
       "      <th>Quantity</th>\n",
       "      <th>InvoiceDate</th>\n",
       "      <th>Price</th>\n",
       "      <th>CustomerID</th>\n",
       "      <th>Country</th>\n",
       "      <th>TotalAmount</th>\n",
       "      <th>Log_Price</th>\n",
       "      <th>Log_Quantity</th>\n",
       "      <th>Log_TotalAmount</th>\n",
       "      <th>Month</th>\n",
       "    </tr>\n",
       "  </thead>\n",
       "  <tbody>\n",
       "    <tr>\n",
       "      <th>0</th>\n",
       "      <td>536365</td>\n",
       "      <td>85123A</td>\n",
       "      <td>6</td>\n",
       "      <td>2010-12-01 08:26:00</td>\n",
       "      <td>2.55</td>\n",
       "      <td>u1785</td>\n",
       "      <td>United Kingdom</td>\n",
       "      <td>15.30</td>\n",
       "      <td>1.266948</td>\n",
       "      <td>1.945910</td>\n",
       "      <td>2.791165</td>\n",
       "      <td>12</td>\n",
       "    </tr>\n",
       "    <tr>\n",
       "      <th>1</th>\n",
       "      <td>536367</td>\n",
       "      <td>84879</td>\n",
       "      <td>32</td>\n",
       "      <td>2010-12-01 08:34:00</td>\n",
       "      <td>1.69</td>\n",
       "      <td>u13047</td>\n",
       "      <td>United Kingdom</td>\n",
       "      <td>54.08</td>\n",
       "      <td>0.989541</td>\n",
       "      <td>3.496508</td>\n",
       "      <td>4.008787</td>\n",
       "      <td>12</td>\n",
       "    </tr>\n",
       "    <tr>\n",
       "      <th>2</th>\n",
       "      <td>536373</td>\n",
       "      <td>85123A</td>\n",
       "      <td>6</td>\n",
       "      <td>2010-12-01 09:02:00</td>\n",
       "      <td>2.55</td>\n",
       "      <td>u1785</td>\n",
       "      <td>United Kingdom</td>\n",
       "      <td>15.30</td>\n",
       "      <td>1.266948</td>\n",
       "      <td>1.945910</td>\n",
       "      <td>2.791165</td>\n",
       "      <td>12</td>\n",
       "    </tr>\n",
       "    <tr>\n",
       "      <th>3</th>\n",
       "      <td>536375</td>\n",
       "      <td>85123A</td>\n",
       "      <td>6</td>\n",
       "      <td>2010-12-01 09:32:00</td>\n",
       "      <td>2.55</td>\n",
       "      <td>u1785</td>\n",
       "      <td>United Kingdom</td>\n",
       "      <td>15.30</td>\n",
       "      <td>1.266948</td>\n",
       "      <td>1.945910</td>\n",
       "      <td>2.791165</td>\n",
       "      <td>12</td>\n",
       "    </tr>\n",
       "    <tr>\n",
       "      <th>4</th>\n",
       "      <td>536378</td>\n",
       "      <td>20725</td>\n",
       "      <td>10</td>\n",
       "      <td>2010-12-01 09:37:00</td>\n",
       "      <td>1.65</td>\n",
       "      <td>u14688</td>\n",
       "      <td>United Kingdom</td>\n",
       "      <td>16.50</td>\n",
       "      <td>0.974560</td>\n",
       "      <td>2.397895</td>\n",
       "      <td>2.862201</td>\n",
       "      <td>12</td>\n",
       "    </tr>\n",
       "  </tbody>\n",
       "</table>\n",
       "</div>"
      ],
      "text/plain": [
       "  Invoice StockCode  Quantity         InvoiceDate  Price CustomerID  \\\n",
       "0  536365    85123A         6 2010-12-01 08:26:00   2.55      u1785   \n",
       "1  536367     84879        32 2010-12-01 08:34:00   1.69     u13047   \n",
       "2  536373    85123A         6 2010-12-01 09:02:00   2.55      u1785   \n",
       "3  536375    85123A         6 2010-12-01 09:32:00   2.55      u1785   \n",
       "4  536378     20725        10 2010-12-01 09:37:00   1.65     u14688   \n",
       "\n",
       "          Country  TotalAmount  Log_Price  Log_Quantity  Log_TotalAmount  \\\n",
       "0  United Kingdom        15.30   1.266948      1.945910         2.791165   \n",
       "1  United Kingdom        54.08   0.989541      3.496508         4.008787   \n",
       "2  United Kingdom        15.30   1.266948      1.945910         2.791165   \n",
       "3  United Kingdom        15.30   1.266948      1.945910         2.791165   \n",
       "4  United Kingdom        16.50   0.974560      2.397895         2.862201   \n",
       "\n",
       "   Month  \n",
       "0     12  \n",
       "1     12  \n",
       "2     12  \n",
       "3     12  \n",
       "4     12  "
      ]
     },
     "execution_count": 33,
     "metadata": {},
     "output_type": "execute_result"
    }
   ],
   "source": [
    "# Preview the first five rows of the data.\n",
    "\n",
    "df.head()"
   ]
  },
  {
   "cell_type": "markdown",
   "metadata": {},
   "source": [
    "# Identify and remove columns with low variance"
   ]
  },
  {
   "cell_type": "code",
   "execution_count": 34,
   "metadata": {},
   "outputs": [],
   "source": [
    "# Obtain the standard deviation of each variable.\n",
    "\n",
    "std_deviation = df.std()"
   ]
  },
  {
   "cell_type": "code",
   "execution_count": 38,
   "metadata": {
    "scrolled": true
   },
   "outputs": [
    {
     "name": "stdout",
     "output_type": "stream",
     "text": [
      "Index([], dtype='object')\n"
     ]
    }
   ],
   "source": [
    "# Define a standard deviation threshold of 0.26.\n",
    "\n",
    "threshold = 0.26\n",
    "\n",
    "# Identify any columns that are lower than the threshold.\n",
    "\n",
    "numeric_columns = df.select_dtypes(include=['number'])\n",
    "low_std_columns = numeric_columns.columns[numeric_columns.std() < threshold]\n",
    "\n",
    "# Print the column(s) that will be dropped.\n",
    "\n",
    "print(low_std_columns)"
   ]
  },
  {
   "cell_type": "code",
   "execution_count": 39,
   "metadata": {},
   "outputs": [
    {
     "data": {
      "text/html": [
       "<div>\n",
       "<style scoped>\n",
       "    .dataframe tbody tr th:only-of-type {\n",
       "        vertical-align: middle;\n",
       "    }\n",
       "\n",
       "    .dataframe tbody tr th {\n",
       "        vertical-align: top;\n",
       "    }\n",
       "\n",
       "    .dataframe thead th {\n",
       "        text-align: right;\n",
       "    }\n",
       "</style>\n",
       "<table border=\"1\" class=\"dataframe\">\n",
       "  <thead>\n",
       "    <tr style=\"text-align: right;\">\n",
       "      <th></th>\n",
       "      <th>Invoice</th>\n",
       "      <th>StockCode</th>\n",
       "      <th>Quantity</th>\n",
       "      <th>InvoiceDate</th>\n",
       "      <th>Price</th>\n",
       "      <th>CustomerID</th>\n",
       "      <th>Country</th>\n",
       "      <th>TotalAmount</th>\n",
       "      <th>Log_Price</th>\n",
       "      <th>Log_Quantity</th>\n",
       "      <th>Log_TotalAmount</th>\n",
       "      <th>Month</th>\n",
       "    </tr>\n",
       "  </thead>\n",
       "  <tbody>\n",
       "    <tr>\n",
       "      <th>0</th>\n",
       "      <td>536365</td>\n",
       "      <td>85123A</td>\n",
       "      <td>6</td>\n",
       "      <td>2010-12-01 08:26:00</td>\n",
       "      <td>2.55</td>\n",
       "      <td>u1785</td>\n",
       "      <td>United Kingdom</td>\n",
       "      <td>15.30</td>\n",
       "      <td>1.266948</td>\n",
       "      <td>1.945910</td>\n",
       "      <td>2.791165</td>\n",
       "      <td>12</td>\n",
       "    </tr>\n",
       "    <tr>\n",
       "      <th>1</th>\n",
       "      <td>536367</td>\n",
       "      <td>84879</td>\n",
       "      <td>32</td>\n",
       "      <td>2010-12-01 08:34:00</td>\n",
       "      <td>1.69</td>\n",
       "      <td>u13047</td>\n",
       "      <td>United Kingdom</td>\n",
       "      <td>54.08</td>\n",
       "      <td>0.989541</td>\n",
       "      <td>3.496508</td>\n",
       "      <td>4.008787</td>\n",
       "      <td>12</td>\n",
       "    </tr>\n",
       "    <tr>\n",
       "      <th>2</th>\n",
       "      <td>536373</td>\n",
       "      <td>85123A</td>\n",
       "      <td>6</td>\n",
       "      <td>2010-12-01 09:02:00</td>\n",
       "      <td>2.55</td>\n",
       "      <td>u1785</td>\n",
       "      <td>United Kingdom</td>\n",
       "      <td>15.30</td>\n",
       "      <td>1.266948</td>\n",
       "      <td>1.945910</td>\n",
       "      <td>2.791165</td>\n",
       "      <td>12</td>\n",
       "    </tr>\n",
       "    <tr>\n",
       "      <th>3</th>\n",
       "      <td>536375</td>\n",
       "      <td>85123A</td>\n",
       "      <td>6</td>\n",
       "      <td>2010-12-01 09:32:00</td>\n",
       "      <td>2.55</td>\n",
       "      <td>u1785</td>\n",
       "      <td>United Kingdom</td>\n",
       "      <td>15.30</td>\n",
       "      <td>1.266948</td>\n",
       "      <td>1.945910</td>\n",
       "      <td>2.791165</td>\n",
       "      <td>12</td>\n",
       "    </tr>\n",
       "    <tr>\n",
       "      <th>4</th>\n",
       "      <td>536378</td>\n",
       "      <td>20725</td>\n",
       "      <td>10</td>\n",
       "      <td>2010-12-01 09:37:00</td>\n",
       "      <td>1.65</td>\n",
       "      <td>u14688</td>\n",
       "      <td>United Kingdom</td>\n",
       "      <td>16.50</td>\n",
       "      <td>0.974560</td>\n",
       "      <td>2.397895</td>\n",
       "      <td>2.862201</td>\n",
       "      <td>12</td>\n",
       "    </tr>\n",
       "  </tbody>\n",
       "</table>\n",
       "</div>"
      ],
      "text/plain": [
       "  Invoice StockCode  Quantity         InvoiceDate  Price CustomerID  \\\n",
       "0  536365    85123A         6 2010-12-01 08:26:00   2.55      u1785   \n",
       "1  536367     84879        32 2010-12-01 08:34:00   1.69     u13047   \n",
       "2  536373    85123A         6 2010-12-01 09:02:00   2.55      u1785   \n",
       "3  536375    85123A         6 2010-12-01 09:32:00   2.55      u1785   \n",
       "4  536378     20725        10 2010-12-01 09:37:00   1.65     u14688   \n",
       "\n",
       "          Country  TotalAmount  Log_Price  Log_Quantity  Log_TotalAmount  \\\n",
       "0  United Kingdom        15.30   1.266948      1.945910         2.791165   \n",
       "1  United Kingdom        54.08   0.989541      3.496508         4.008787   \n",
       "2  United Kingdom        15.30   1.266948      1.945910         2.791165   \n",
       "3  United Kingdom        15.30   1.266948      1.945910         2.791165   \n",
       "4  United Kingdom        16.50   0.974560      2.397895         2.862201   \n",
       "\n",
       "   Month  \n",
       "0     12  \n",
       "1     12  \n",
       "2     12  \n",
       "3     12  \n",
       "4     12  "
      ]
     },
     "execution_count": 39,
     "metadata": {},
     "output_type": "execute_result"
    }
   ],
   "source": [
    "# Drop the column(s) that have low standard deviation from the main dataset.\n",
    "\n",
    "df = df.drop(low_std_columns, axis=1)\n",
    "\n",
    "# Preview the first five rows of data.\n",
    "\n",
    "df.head()"
   ]
  },
  {
   "cell_type": "markdown",
   "metadata": {},
   "source": [
    "# Generate box plots for each numeric variable"
   ]
  },
  {
   "cell_type": "code",
   "execution_count": 40,
   "metadata": {
    "scrolled": false
   },
   "outputs": [
    {
     "data": {
      "image/png": "[encoded data removed]",
      "text/plain": [
       "<Figure size 864x432 with 1 Axes>"
      ]
     },
     "metadata": {
      "needs_background": "light"
     },
     "output_type": "display_data"
    }
   ],
   "source": [
    "# Draw box plots for each numeric variable.\n",
    "\n",
    "numeric_variables = ['Quantity', 'Price', 'TotalAmount', 'Log_Price', 'Log_Quantity', 'Log_TotalAmount']\n",
    "df[numeric_variables].boxplot(figsize=(12, 6))\n",
    "\n",
    "plt.title('Box Plots for Numeric Variables')\n",
    "plt.xlabel('Variables')\n",
    "plt.ylabel('Values')\n",
    "\n",
    "plt.show()"
   ]
  },
  {
   "cell_type": "markdown",
   "metadata": {},
   "source": [
    "# Identify and remove outliers"
   ]
  },
  {
   "cell_type": "code",
   "execution_count": 50,
   "metadata": {},
   "outputs": [],
   "source": [
    "# This function returns the lower and upper bounds of a numeric input variable.\n",
    "\n",
    "def calc_outliers(var):\n",
    "    q3 = np.percentile(var, 75) \n",
    "    q1 = np.percentile(var, 25)\n",
    "\n",
    "    iqr = 1.5 * (q3 - q1)\n",
    "\n",
    "    lb = q1 - iqr\n",
    "    ub = q3 + iqr\n",
    "\n",
    "    print('Lower bound of outliers:', round(lb, 2), '\\nUpper bound of outliers:', round(ub, 2))\n",
    "    \n",
    "    return lb, ub"
   ]
  },
  {
   "cell_type": "code",
   "execution_count": 51,
   "metadata": {},
   "outputs": [
    {
     "name": "stdout",
     "output_type": "stream",
     "text": [
      "Shape of the data before removing outliers: (0, 12)\n"
     ]
    }
   ],
   "source": [
    "# Identify the shape of the data before removing outliers.\n",
    "\n",
    "print(\"Shape of the data before removing outliers:\", df.shape)"
   ]
  },
  {
   "cell_type": "code",
   "execution_count": 70,
   "metadata": {},
   "outputs": [
    {
     "name": "stdout",
     "output_type": "stream",
     "text": [
      "Outliers removed for column 'Quantity'\n",
      "Shape of the data after removing outliers: (0, 12)\n"
     ]
    }
   ],
   "source": [
    "# Call the calc_outliers() function iteratively for each numeric variable.\n",
    "# For each variable:\n",
    "#     Remove the outliers that are higher than the upper bounds.\n",
    "#     Remove the variables that are lower than the lower bounds.\n",
    "# As you iterate through each variable, print the shape of the data after the outliers for that variable are removed.\n",
    "\n",
    "numeric_columns = [column for column in df.columns if df[column].dtype != 'object']\n",
    "\n",
    "if not df[column].empty:\n",
    "       df = df[df[column] <= ub]\n",
    "\n",
    "       df = df[df[column] >= lb]\n",
    "print(f\"Outliers removed for column '{column}'\")\n",
    "new_shape = df.shape\n",
    "print(\"Shape of the data after removing outliers:\", new_shape)"
   ]
  },
  {
   "cell_type": "markdown",
   "metadata": {},
   "source": [
    "# Save the final dataset as a pickle file"
   ]
  },
  {
   "cell_type": "code",
   "execution_count": 74,
   "metadata": {},
   "outputs": [
    {
     "name": "stdout",
     "output_type": "stream",
     "text": [
      "Cleaned data saved as online_history_cleaned_final.pickle\n"
     ]
    }
   ],
   "source": [
    "# Save the final dataset as a pickle file named online_history_cleaned_final.pickle.\n",
    "\n",
    "import pickle\n",
    "\n",
    "with open('online_history_cleaned_final.pickle', 'wb') as file:\n",
    "    pickle.dump(df, file)\n",
    "\n",
    "print(\"Cleaned data saved as online_history_cleaned_final.pickle\")"
   ]
  },
  {
   "cell_type": "code",
   "execution_count": null,
   "metadata": {},
   "outputs": [],
   "source": []
  }
 ],
 "metadata": {
  "kernelspec": {
   "display_name": "Python 3",
   "language": "python",
   "name": "python3"
  },
  "language_info": {
   "codemirror_mode": {
    "name": "ipython",
    "version": 3
   },
   "file_extension": ".py",
   "mimetype": "text/x-python",
   "name": "python",
   "nbconvert_exporter": "python",
   "pygments_lexer": "ipython3",
   "version": "3.7.6"
  }
 },
 "nbformat": 4,
 "nbformat_minor": 4
}
